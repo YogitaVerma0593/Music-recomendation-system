{
 "cells": [
  {
   "cell_type": "code",
   "execution_count": 19,
   "id": "6eaf2801-56f5-45be-9c06-d677c691cb0f",
   "metadata": {},
   "outputs": [
    {
     "name": "stdout",
     "output_type": "stream",
     "text": [
      "['SONI SONI' 'OFFO']\n"
     ]
    }
   ],
   "source": [
    "import pandas as pd\n",
    "from sklearn.metrics.pairwise import cosine_similarity\n",
    "\n",
    "# Sample dataset with song names\n",
    "data = {\n",
    "    'user_id': [101, 101, 101, 102, 102, 103, 103, 103],\n",
    "    'song_id': [1, 2, 3, 1, 2, 1, 3, 4],\n",
    "    'song_name': ['DO DIN', 'SONI SONI', 'ISHQ DE FANIYAR', 'MEHARBAAN', 'OFFO', 'AKHIYAAN GULAAB', 'PARSHAWAAN', 'YE TUNE KYA KIYA'],\n",
    "    'rating': [5, 4, 1, 4, 5, 3, 2, 5]\n",
    "}\n",
    "\n",
    "df = pd.DataFrame(data)\n",
    "\n",
    "# Create a user-item matrix\n",
    "user_song_matrix = df.pivot_table(index='user_id', columns='song_id', values='rating')\n",
    "user_song_matrix = user_song_matrix.fillna(0)\n",
    "\n",
    "# Compute the cosine similarity between users\n",
    "user_similarity = cosine_similarity(user_song_matrix)\n",
    "user_similarity_df = pd.DataFrame(user_similarity, index=user_song_matrix.index, columns=user_song_matrix.index)\n",
    "\n",
    "# Function to get recommendations for a user\n",
    "def get_recommendations(user_id, num_recommendations=2):\n",
    "    similar_users = user_similarity_df[user_id].sort_values(ascending=False).index[1:]\n",
    "    user_ratings = user_song_matrix.loc[user_id]\n",
    "    recommendations = []\n",
    "\n",
    "    for similar_user in similar_users:\n",
    "        similar_user_ratings = user_song_matrix.loc[similar_user]\n",
    "        similar_user_recommendations = similar_user_ratings[similar_user_ratings > 0].index.difference(user_ratings[user_ratings > 0].index)\n",
    "        recommendations.extend(similar_user_recommendations)\n",
    "        \n",
    "        if len(recommendations) >= num_recommendations:\n",
    "            break\n",
    "    \n",
    "    recommended_songs = recommendations[:num_recommendations]\n",
    "    song_names = df[df['song_id'].isin(recommended_songs)]['song_name'].unique()\n",
    "    \n",
    "    return song_names\n",
    "\n",
    "# Get recommendations for user with ID 101\n",
    "print(get_recommendations(103))\n"
   ]
  }
 ],
 "metadata": {
  "kernelspec": {
   "display_name": "Python 3 (ipykernel)",
   "language": "python",
   "name": "python3"
  },
  "language_info": {
   "codemirror_mode": {
    "name": "ipython",
    "version": 3
   },
   "file_extension": ".py",
   "mimetype": "text/x-python",
   "name": "python",
   "nbconvert_exporter": "python",
   "pygments_lexer": "ipython3",
   "version": "3.12.4"
  }
 },
 "nbformat": 4,
 "nbformat_minor": 5
}
